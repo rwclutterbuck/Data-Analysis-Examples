{
 "metadata": {
  "language_info": {
   "codemirror_mode": {
    "name": "ipython",
    "version": 3
   },
   "file_extension": ".py",
   "mimetype": "text/x-python",
   "name": "python",
   "nbconvert_exporter": "python",
   "pygments_lexer": "ipython3",
   "version": "3.8.2"
  },
  "orig_nbformat": 2,
  "kernelspec": {
   "name": "python382jvsc74a57bd0d5c61ee9f68a96762e958ad1f5bba4c8f6a87df990cb269f798ff295159c3d1c",
   "display_name": "Python 3.8.2 64-bit ('base': conda)"
  },
  "metadata": {
   "interpreter": {
    "hash": "31f2aee4e71d21fbe5cf8b01ff0e069b9275f58929596ceb00d14d90e3e16cd6"
   }
  }
 },
 "nbformat": 4,
 "nbformat_minor": 2,
 "cells": [
  {
   "source": [
    "# HM Land Registry Open Data\n",
    "<details><summary>Data Analysis Problem:</summary>\n",
    "<br>\n",
    "Please download data from HM Land Registry Open Data, profile and clean the data and run some analyses, I am happy for you to use any language you prefer, but please submit both your code sample and your output. I am looking for these skills:\n",
    "<pre>\n",
    "1. Your ability to take a completely new dataset and make it ready for analysis (Data Engineering);\n",
    "2. Defining questions you can answer from the data (Data Analysis);\n",
    "3. Analyses and conclusions (Data Analysis)\n",
    "</pre>\n",
    "</details>\n",
    "\n",
    "\n",
    "## Data Sources\n",
    "[Land registry information](https://landregistry.data.gov.uk) used in this report is made available under the [Open Government License v3.0 (OGLv3.0)](http://www.nationalarchives.gov.uk/doc/open-government-licence/version/3/)   \n",
    "[Shape data for the uk](https://geoportal.statistics.gov.uk/datasets/counties-and-unitary-authorities-december-2020-uk-bfc?geometry=-44.292%2C51.101%2C39.424%2C59.782) licensed under a [custom licence](https://www.ons.gov.uk/methodology/geography/licences) by Ordnance Survey and ONS  \n",
    "[Population data](https://www.ons.gov.uk/peoplepopulationandcommunity/populationandmigration/populationestimates/datasets/populationestimatesforukenglandandwalesscotlandandnorthernireland) available under [Open Government License v3.0 (OGLv3.0)](http://www.nationalarchives.gov.uk/doc/open-government-licence/version/3/)   \n"
   ],
   "cell_type": "markdown",
   "metadata": {}
  },
  {
   "source": [
    "## Import libraries"
   ],
   "cell_type": "markdown",
   "metadata": {}
  },
  {
   "source": [
    "import pandas as pd\n",
    "import os\n",
    "import datetime\n",
    "import matplotlib.pyplot as plt\n",
    "import geopandas as gpd\n",
    "from matplotlib.dates import DateFormatter\n"
   ],
   "cell_type": "code",
   "metadata": {},
   "execution_count": 1,
   "outputs": []
  },
  {
   "source": [
    "## constant values"
   ],
   "cell_type": "markdown",
   "metadata": {}
  },
  {
   "cell_type": "code",
   "execution_count": 2,
   "metadata": {},
   "outputs": [],
   "source": [
    "root_dir = os.path.abspath('.')"
   ]
  },
  {
   "source": [
    "# Process transaction data into one file\n",
    "## Rename archived files\n",
    "rename raw datasets of transaction data .csv and save elsewhere. A few files were processed by hand due to not fitting with the internal structure or not having any meta data.\n",
    "\n",
    "---\n",
    "\n",
    "Move working directory"
   ],
   "cell_type": "markdown",
   "metadata": {}
  },
  {
   "cell_type": "code",
   "execution_count": 3,
   "metadata": {},
   "outputs": [],
   "source": [
    "os.chdir(root_dir)\n",
    "os.chdir(\"../RawData/TransactionData\")"
   ]
  },
  {
   "cell_type": "code",
   "execution_count": 4,
   "metadata": {},
   "outputs": [],
   "source": [
    "all_files = os.listdir()\n",
    "write_protect = True\n",
    "# Make sure code isn't accidentally run\n",
    "if write_protect == False:\n",
    "    for ifile in all_files:\n",
    "        if ifile[-4:] == \".csv\":\n",
    "            with open(ifile) as file_open:\n",
    "                file_open = open(ifile)\n",
    "                file_read = file_open.read()\n",
    "                name_loc = file_read.find(\",\")\n",
    "            \n",
    "                if file_read[0][0] == \"\\ufeff\":\n",
    "                    file_name = file_read[1:name_loc]\n",
    "                    name_loc -= 1\n",
    "                else:\n",
    "                    file_name = file_read[:name_loc]\n",
    "\n",
    "\n",
    "                if file_name == \"Land Registry\":\n",
    "                    with open(ifile) as temp_read:\n",
    "                        file_read = ''.join(temp_read.readlines()[2:])\n",
    "                        name_loc = file_read.find(\",\")\n",
    "                        file_name = file_read[:name_loc]\n",
    "\n",
    "            if file_name.replace(' ','-')+'-' == ifile[:name_loc+1]:\n",
    "                file_name = ifile\n",
    "            else:\n",
    "                month_start = file_read.find(\"Calendar Month,\")+15\n",
    "                month_end = file_read.find(',',month_start)\n",
    "                date_name = file_read[month_start:month_end].split()\n",
    "                if len(date_name) == 1:\n",
    "                    date_name = date_name[0].split('-')\n",
    "                    month_num = datetime.datetime.strptime(date_name[0],\"%b\").month+1\n",
    "                else:\n",
    "                    month_num = datetime.datetime.strptime(date_name[0],\"%B\").month+1\n",
    "                \n",
    "                if month_num == 13:\n",
    "                    month_num = 1\n",
    "                    date_name[1] = str(int(date_name[1])+1)\n",
    "\n",
    "                file_name += \" \" + date_name[1] + \" \" + str(month_num).zfill(2) + \".csv\"\n",
    "                file_name = file_name.replace(' ','-')\n",
    "            \n",
    "            file_open.close()\n",
    "            # Copy data to midpoint folder (TransactionDataRenamed) before concatination\n",
    "            with  open(\"../TransactionDataRenamed/\" + file_name, 'w') as new_file:\n",
    "                new_file.write(file_read)\n",
    "                new_file.close()"
   ]
  },
  {
   "source": [
    "## Data Concatination\n",
    "First check for missing files"
   ],
   "cell_type": "markdown",
   "metadata": {}
  },
  {
   "cell_type": "code",
   "execution_count": 5,
   "metadata": {},
   "outputs": [],
   "source": [
    "os.chdir(root_dir)\n",
    "os.chdir(\"../RawData/TransactionDataRenamed\")"
   ]
  },
  {
   "cell_type": "code",
   "execution_count": 6,
   "metadata": {},
   "outputs": [
    {
     "output_type": "execute_result",
     "data": {
      "text/plain": [
       "['Number-and-types-of-transactions-for-value-by-all-account-customers-2014-07.csv',\n",
       " 'Number-of-searches-by-all-account-customers-2014-07.csv',\n",
       " 'Number-of-applications-in-England-and-Wales-divided-by-local-authority-2014-07.csv',\n",
       " 'Number-and-types-of-applications-by-all-account-customers-2014-07.csv',\n",
       " 'Number-of-applications-in-England-and-Wales-divided-by-region-2014-07.csv']"
      ]
     },
     "metadata": {},
     "execution_count": 6
    }
   ],
   "source": [
    "renamed_files = os.listdir()\n",
    "renamed_files.sort()\n",
    "unique_files = list(set([i[:-11] for i in renamed_files]))\n",
    "log_missing = []\n",
    "\n",
    "for file_type in unique_files:\n",
    "    for year in range(2012,2022):\n",
    "        for month in range(1,13):\n",
    "            if year == 2021 and month > 4:\n",
    "                break\n",
    "            file_search = file_type+str(year)+'-'+str(month).zfill(2)+'.csv'\n",
    "            if file_search in renamed_files:\n",
    "                pass\n",
    "            else:\n",
    "                log_missing.append(file_search)\n",
    "log_missing"
   ]
  },
  {
   "source": [
    "log_missing confirms only 2014-07 .csv files are missing, which appear to be a black spot in the data from switching between archive and current.  \n",
    "\n",
    "---\n",
    "Now concatinate all files together into one transaction file."
   ],
   "cell_type": "markdown",
   "metadata": {}
  },
  {
   "cell_type": "code",
   "execution_count": 7,
   "metadata": {},
   "outputs": [],
   "source": [
    "a = []\n",
    "dict_df = {i:[] for i in unique_files}\n",
    "for ifile in renamed_files:\n",
    "    tmp_df = pd.read_csv(ifile,\n",
    "                    skiprows=4,\n",
    "                    index_col=0)\n",
    "    tmp_df['Date'] = ifile[-11:-4]\n",
    "    dict_df[ifile[:-11]].append(tmp_df)\n",
    "\n",
    "for ikey in dict_df.keys():\n",
    "    dict_df[ikey] = pd.concat(dict_df[ikey])\n",
    "    dict_df[ikey].to_csv(\"../CleanTransaction/\"+ikey[:-1]+\".csv\")"
   ]
  },
  {
   "source": [
    "## Data cleaning  \n",
    "Make the other remaining .csv ready for analysis. No post processing has been done due to the data being very thorough, with changes only made with how pandas reads in the csv by default (especially in the case of the price paid (pp) data which needs a large amount of columns culled before it can be read)."
   ],
   "cell_type": "markdown",
   "metadata": {}
  },
  {
   "cell_type": "code",
   "execution_count": 8,
   "metadata": {},
   "outputs": [],
   "source": [
    "os.chdir(root_dir)\n",
    "os.chdir('..')"
   ]
  },
  {
   "cell_type": "code",
   "execution_count": 9,
   "metadata": {},
   "outputs": [],
   "source": [
    "pp_columns = ['Transaction unique identifier',\n",
    "              'Price',\n",
    "              'Date of Transfer',\n",
    "              'Postcode',\n",
    "              'Property Type',\n",
    "              'Old/New',\n",
    "              'Duration',\n",
    "              'PAON',\n",
    "              'SAON',\n",
    "              'Street',\n",
    "              'Locality',\n",
    "              'Town/City',\n",
    "              'District',\n",
    "              'County',\n",
    "              'PPD Category Type',\n",
    "              'Record Status-monthly file only']\n",
    "indexs = [1,2,4,5,6,13]#[3,7,2,1,5,6]\n",
    "pp_col_slice = [pp_columns[i] for i in indexs]\n",
    "pp = pd.read_csv('RawData/PricePaidData/pp-complete.csv',\n",
    "                 names=pp_col_slice,\n",
    "                 usecols=indexs,\n",
    "                 index_col=[5,1],#[2,13,12,11,10,9,8,7,3,0],\n",
    "                 engine='c',\n",
    "                 )"
   ]
  },
  {
   "cell_type": "code",
   "execution_count": 10,
   "metadata": {},
   "outputs": [
    {
     "output_type": "execute_result",
     "data": {
      "text/plain": [
       "                                   Price Property Type Old/New Duration\n",
       "County           Date of Transfer                                      \n",
       "TYNE AND WEAR    1995-12-21 00:00  42000             S       N        F\n",
       "THURROCK         1995-03-03 00:00  95000             S       N        F\n",
       "CHESHIRE         1995-10-03 00:00  74950             D       Y        F\n",
       "STOCKTON-ON-TEES 1995-11-14 00:00  43500             S       N        F\n",
       "CUMBRIA          1995-09-08 00:00  63000             S       N        F"
      ],
      "text/html": "<div>\n<style scoped>\n    .dataframe tbody tr th:only-of-type {\n        vertical-align: middle;\n    }\n\n    .dataframe tbody tr th {\n        vertical-align: top;\n    }\n\n    .dataframe thead th {\n        text-align: right;\n    }\n</style>\n<table border=\"1\" class=\"dataframe\">\n  <thead>\n    <tr style=\"text-align: right;\">\n      <th></th>\n      <th></th>\n      <th>Price</th>\n      <th>Property Type</th>\n      <th>Old/New</th>\n      <th>Duration</th>\n    </tr>\n    <tr>\n      <th>County</th>\n      <th>Date of Transfer</th>\n      <th></th>\n      <th></th>\n      <th></th>\n      <th></th>\n    </tr>\n  </thead>\n  <tbody>\n    <tr>\n      <th>TYNE AND WEAR</th>\n      <th>1995-12-21 00:00</th>\n      <td>42000</td>\n      <td>S</td>\n      <td>N</td>\n      <td>F</td>\n    </tr>\n    <tr>\n      <th>THURROCK</th>\n      <th>1995-03-03 00:00</th>\n      <td>95000</td>\n      <td>S</td>\n      <td>N</td>\n      <td>F</td>\n    </tr>\n    <tr>\n      <th>CHESHIRE</th>\n      <th>1995-10-03 00:00</th>\n      <td>74950</td>\n      <td>D</td>\n      <td>Y</td>\n      <td>F</td>\n    </tr>\n    <tr>\n      <th>STOCKTON-ON-TEES</th>\n      <th>1995-11-14 00:00</th>\n      <td>43500</td>\n      <td>S</td>\n      <td>N</td>\n      <td>F</td>\n    </tr>\n    <tr>\n      <th>CUMBRIA</th>\n      <th>1995-09-08 00:00</th>\n      <td>63000</td>\n      <td>S</td>\n      <td>N</td>\n      <td>F</td>\n    </tr>\n  </tbody>\n</table>\n</div>"
     },
     "metadata": {},
     "execution_count": 10
    }
   ],
   "source": [
    "pp.head()"
   ]
  },
  {
   "cell_type": "code",
   "execution_count": 11,
   "metadata": {},
   "outputs": [],
   "source": [
    "hpi = pd.read_csv('RawData/HPI/UK-HPI-full-file-2021-02.csv',\n",
    "                  index_col='RegionName')\n",
    "columns = ['Date','AreaCode', \n",
    "           'AveragePrice', 'Index', 'IndexSA', '1m%Change', '12m%Change', 'AveragePriceSA', 'SalesVolume', \n",
    "           'DetachedPrice', 'DetachedIndex', 'Detached1m%Change', 'Detached12m%Change',\n",
    "           'SemiDetachedPrice', 'SemiDetachedIndex', 'SemiDetached1m%Change', 'SemiDetached12m%Change', \n",
    "           'TerracedPrice', 'TerracedIndex', 'Terraced1m%Change', 'Terraced12m%Change', \n",
    "           'FlatPrice', 'FlatIndex', 'Flat1m%Change', 'Flat12m%Change', \n",
    "           'CashPrice', 'CashIndex', 'Cash1m%Change', 'Cash12m%Change', 'CashSalesVolume', \n",
    "           'MortgagePrice', 'MortgageIndex', 'Mortgage1m%Change', 'Mortgage12m%Change', 'MortgageSalesVolume', \n",
    "           'FTBPrice', 'FTBIndex', 'FTB1m%Change', 'FTB12m%Change', \n",
    "           'FOOPrice', 'FOOIndex', 'FOO1m%Change','FOO12m%Change', \n",
    "           'NewPrice', 'NewIndex', 'New1m%Change', 'New12m%Change', 'NewSalesVolume', \n",
    "           'OldPrice', 'OldIndex', 'Old1m%Change', 'Old12m%Change', 'OldSalesVolume']\n",
    "countries = ('England','Scotland','Wales','Northern Ireland')\n",
    "hpi['Date'] = pd.to_datetime(hpi['Date'],dayfirst=True)\n"
   ]
  },
  {
   "cell_type": "code",
   "execution_count": 12,
   "metadata": {},
   "outputs": [],
   "source": [
    "population = pd.read_csv('RawData/Population Data/PopulationData.csv',\n",
    "                         index_col='Name')\n",
    "#population.head()"
   ]
  },
  {
   "source": [
    "# Analyse data\n",
    "Look at the distribution of the amount paid per house across the UK"
   ],
   "cell_type": "markdown",
   "metadata": {}
  },
  {
   "cell_type": "code",
   "execution_count": 13,
   "metadata": {},
   "outputs": [
    {
     "output_type": "display_data",
     "data": {
      "text/plain": "<Figure size 432x288 with 1 Axes>",
      "image/png": "[encoded data removed]"
     },
     "metadata": {
      "needs_background": "light"
     }
    }
   ],
   "source": [
    "fig, ax = plt.subplots()\n",
    "\n",
    "# x = pd.to_datetime(hpi.loc[counties[0]].index,dayfirst=True)\n",
    "# x1 = pd.to_datetime([i[1] for i in hpi.index],dayfirst=True)\n",
    "# y = hpi['AveragePrice']\n",
    "mean_price = []\n",
    "mean_start = []\n",
    "for i in countries:\n",
    "    # date_mask = hpi['Date'].loc[countries[i]] >= pd.to_datetime(\"01-01-2012\",dayfirst=True)\n",
    "    # x = hpi['Date'].loc[counties[i]][date_mask]\n",
    "    ax.plot(hpi['Date'].loc[i],hpi['AveragePrice'].loc[i])\n",
    "\n",
    "ax.legend(countries)\n",
    "# ax.hist(mean_price,bins=50)\n",
    "# ax.set_xlim(pd.to_datetime('2012'),pd.to_datetime('2021'))\n",
    "# ax.set_xticks(pd.to_datetime(['2012','2014','2016','2018','2020']))\n",
    "# ax.xaxis.set_major_formatter(DateFormatter(\"%Y\"))\n",
    "ax.set_title('Average house price per Country')\n",
    "ax.set_xlabel('Date')\n",
    "ax.set_ylabel('Average Price (£)')\n",
    "pass"
   ]
  },
  {
   "source": [
    "Average price for housing in the UK has accelerated in England at a higher rate over the last 10 years in comparison to Northern Ireland, Scotland, and Wales."
   ],
   "cell_type": "markdown",
   "metadata": {}
  },
  {
   "cell_type": "code",
   "execution_count": 14,
   "metadata": {},
   "outputs": [
    {
     "output_type": "stream",
     "name": "stdout",
     "text": [
      "England [379456.70406842104, 234352.78541842103, 202467.5263605263, 225878.4166842105]\nScotland [263394.69981315784, 159851.1011763158, 127513.36934473681, 109938.63749736841]\nWales [248478.94562105255, 159054.36898684205, 127623.7091394737, 115050.67838684212]\nNorthern Ireland [206817.4936447369, 134412.33678684203, 97624.81631263162, 109666.97302894741]\n"
     ]
    },
    {
     "output_type": "display_data",
     "data": {
      "text/plain": "<Figure size 432x288 with 1 Axes>",
      "image/png": "[encoded data removed]"
     },
     "metadata": {
      "needs_background": "light"
     }
    }
   ],
   "source": [
    "\n",
    "fig, ax = plt.subplots()\n",
    "\n",
    "for i in countries:\n",
    "    date_mask = hpi['Date'].loc[i] >= pd.to_datetime(\"01-01-2018\",dayfirst=True)\n",
    "    ax.scatter([i]*4,[hpi['DetachedPrice'].loc[i][date_mask].mean(),\n",
    "                      hpi['SemiDetachedPrice'].loc[i][date_mask].mean(),\n",
    "                      hpi['TerracedPrice'].loc[i][date_mask].mean(),\n",
    "                      hpi['FlatPrice'].loc[i][date_mask].mean()\n",
    "                      ])\n",
    "    print(i,[hpi['DetachedPrice'].loc[i][date_mask].mean(),\n",
    "                  hpi['SemiDetachedPrice'].loc[i][date_mask].mean(),\n",
    "                  hpi['TerracedPrice'].loc[i][date_mask].mean(),\n",
    "                  hpi['FlatPrice'].loc[i][date_mask].mean()])\n",
    "\n",
    "ax.set_ylabel('Price (£)')\n",
    "ax.set_xlabel('Countries')\n",
    "ax.set_title('Average Price of different housing types since 2018')\n",
    "pass"
   ]
  },
  {
   "source": [
    "Detached homes are significantly more expensive, with most housing types in England costing close to double their counterparts in Scotland, Wales, and Northern Ireland."
   ],
   "cell_type": "markdown",
   "metadata": {}
  },
  {
   "cell_type": "code",
   "execution_count": 15,
   "metadata": {},
   "outputs": [
    {
     "output_type": "error",
     "ename": "IndentationError",
     "evalue": "unexpected indent (<ipython-input-15-919235cf0cb6>, line 2)",
     "traceback": [
      "\u001b[0;36m  File \u001b[0;32m\"<ipython-input-15-919235cf0cb6>\"\u001b[0;36m, line \u001b[0;32m2\u001b[0m\n\u001b[0;31m    index_col=['CTYUA20NM'])\u001b[0m\n\u001b[0m    ^\u001b[0m\n\u001b[0;31mIndentationError\u001b[0m\u001b[0;31m:\u001b[0m unexpected indent\n"
     ]
    }
   ],
   "source": [
    "#uk_map = gpd.read_file('ShapeData/Countries/Countries_(December_2020)_UK_BFC.shp',\n",
    "                       index_col=['CTYUA20NM'])\n",
    "#uk_map.plot()"
   ]
  }
 ]
}